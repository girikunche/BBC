{
 "cells": [
  {
   "attachments": {},
   "cell_type": "markdown",
   "metadata": {},
   "source": [
    "## BBC News Classification Kaggle Mini-Project"
   ]
  },
  {
   "attachments": {},
   "cell_type": "markdown",
   "metadata": {},
   "source": [
    "This Kaggle competition is about categorizing news articles. You will use matrix factorization to predict the category and submit your notebook for peer evaluation. \n",
    "\n",
    "The part has 80 points. The instructions summarize the criteria you will use to guide your submission and review others’ submissions. \n",
    "Use Matrix Factorization to predict the category and submit your notebook for peer evaluation.\n",
    "\n"
   ]
  },
  {
   "attachments": {},
   "cell_type": "markdown",
   "metadata": {},
   "source": [
    "### Instructions: Step 1 - Extracting word features and show Exploratory Data Analysis (EDA) — Inspect, Visualize and Clean the Data (15 pts)\n",
    "\n",
    "Show a few visualizations like histograms. Describe any data cleaning procedures. Based on your EDA, what is your plan of analysis? \n",
    "\n",
    "Please feel free to look at online resources on processing raw texts to feature vectors. Many methods process texts to matrix form (word embedding), including TF-IDF, GloVe, Word2Vec, etc. Pick a method and process the raw texts to word embedding. Briefly explain the method(s) and how they work in your own words. Also, do exploratory data analysis such as word statistics and/or visualization.\n",
    "\n",
    "As we did not learn natural language processing (NLP) specific techniques such as word embeddings in the lectures, we recommend reading discussions and example codes from others in the Kaggle and/or doing some research online to make sure you understand. You can refer to any resource as needed, but make sure you “demonstrate” your understanding- please include explaining in your own words, discussions, and your interpretation. Also importantly, please have a reference list at the end of the report. "
   ]
  },
  {
   "cell_type": "code",
   "execution_count": 303,
   "metadata": {},
   "outputs": [],
   "source": [
    "import pandas as pd\n",
    "import numpy as np\n",
    "from sklearn.feature_extraction.text import TfidfVectorizer\n",
    "from sklearn.decomposition import NMF\n",
    "from sklearn.metrics import accuracy_score\n",
    "from sklearn.preprocessing import LabelEncoder\n",
    "import matplotlib.pyplot as plt\n",
    "import seaborn as sns\n",
    "from sklearn.metrics import accuracy_score, classification_report, confusion_matrix\n",
    "from itertools import product\n",
    "from nltk import WordNetLemmatizer\n",
    "from sklearn.preprocessing import LabelEncoder\n",
    "from sklearn.model_selection import train_test_split\n",
    "from nltk.corpus import stopwords\n",
    "from nltk.tokenize import word_tokenize"
   ]
  },
  {
   "attachments": {},
   "cell_type": "markdown",
   "metadata": {},
   "source": [
    "### Read Train and Test Data"
   ]
  },
  {
   "cell_type": "code",
   "execution_count": 304,
   "metadata": {},
   "outputs": [],
   "source": [
    "# Read the training data\n",
    "df_train = pd.read_csv('./Data/BBC News Train.csv')\n",
    "# Read the test data\n",
    "df_test = pd.read_csv('./Data/BBC News Test.csv')\n"
   ]
  },
  {
   "cell_type": "code",
   "execution_count": 305,
   "metadata": {},
   "outputs": [
    {
     "data": {
      "text/html": [
       "<div>\n",
       "<style scoped>\n",
       "    .dataframe tbody tr th:only-of-type {\n",
       "        vertical-align: middle;\n",
       "    }\n",
       "\n",
       "    .dataframe tbody tr th {\n",
       "        vertical-align: top;\n",
       "    }\n",
       "\n",
       "    .dataframe thead th {\n",
       "        text-align: right;\n",
       "    }\n",
       "</style>\n",
       "<table border=\"1\" class=\"dataframe\">\n",
       "  <thead>\n",
       "    <tr style=\"text-align: right;\">\n",
       "      <th></th>\n",
       "      <th>ArticleId</th>\n",
       "      <th>Text</th>\n",
       "    </tr>\n",
       "  </thead>\n",
       "  <tbody>\n",
       "    <tr>\n",
       "      <th>0</th>\n",
       "      <td>1018</td>\n",
       "      <td>qpr keeper day heads for preston queens park r...</td>\n",
       "    </tr>\n",
       "    <tr>\n",
       "      <th>1</th>\n",
       "      <td>1319</td>\n",
       "      <td>software watching while you work software that...</td>\n",
       "    </tr>\n",
       "    <tr>\n",
       "      <th>2</th>\n",
       "      <td>1138</td>\n",
       "      <td>d arcy injury adds to ireland woe gordon d arc...</td>\n",
       "    </tr>\n",
       "    <tr>\n",
       "      <th>3</th>\n",
       "      <td>459</td>\n",
       "      <td>india s reliance family feud heats up the ongo...</td>\n",
       "    </tr>\n",
       "    <tr>\n",
       "      <th>4</th>\n",
       "      <td>1020</td>\n",
       "      <td>boro suffer morrison injury blow middlesbrough...</td>\n",
       "    </tr>\n",
       "  </tbody>\n",
       "</table>\n",
       "</div>"
      ],
      "text/plain": [
       "   ArticleId                                               Text\n",
       "0       1018  qpr keeper day heads for preston queens park r...\n",
       "1       1319  software watching while you work software that...\n",
       "2       1138  d arcy injury adds to ireland woe gordon d arc...\n",
       "3        459  india s reliance family feud heats up the ongo...\n",
       "4       1020  boro suffer morrison injury blow middlesbrough..."
      ]
     },
     "execution_count": 305,
     "metadata": {},
     "output_type": "execute_result"
    }
   ],
   "source": [
    "df_test.head()"
   ]
  },
  {
   "cell_type": "code",
   "execution_count": 306,
   "metadata": {},
   "outputs": [
    {
     "data": {
      "image/png": "[encoded data removed]",
      "text/plain": [
       "<Figure size 720x360 with 1 Axes>"
      ]
     },
     "metadata": {
      "needs_background": "light"
     },
     "output_type": "display_data"
    }
   ],
   "source": [
    "# display by category\n",
    "df_train['Category'].value_counts().plot(kind='bar', figsize=(10, 5))\n",
    "plt.title('Number of articles by category')\n",
    "plt.xlabel('Category')\n",
    "plt.ylabel('Number of articles')\n",
    "plt.show()"
   ]
  },
  {
   "attachments": {},
   "cell_type": "markdown",
   "metadata": {},
   "source": [
    "There are 5 categories : Business, Tech, Politics , Sports and Entertainment in Training Set."
   ]
  },
  {
   "cell_type": "code",
   "execution_count": 307,
   "metadata": {},
   "outputs": [
    {
     "data": {
      "image/png": "[encoded data removed]",
      "text/plain": [
       "<Figure size 720x360 with 1 Axes>"
      ]
     },
     "metadata": {
      "needs_background": "light"
     },
     "output_type": "display_data"
    },
    {
     "name": "stdout",
     "output_type": "stream",
     "text": [
      "Total number of duplicate texts:  50\n"
     ]
    }
   ],
   "source": [
    "\n",
    "# Get the duplicate texts\n",
    "dup_text = df_train[df_train.duplicated(subset=['Text'], keep=False)].sort_values(by='Text').head(50)\n",
    "# Plot the number of duplicate text by category\n",
    "plt.figure(figsize=(10, 5))\n",
    "# Title of the plot\n",
    "plt.title('Number of duplicate texts by category')\n",
    "sns.countplot(x='Category', data=dup_text)\n",
    "plt.xticks(rotation=90)\n",
    "plt.show()\n",
    "\n",
    "# Total number of duplicate texts\n",
    "print('Total number of duplicate texts: ', len(dup_text))\n"
   ]
  },
  {
   "attachments": {},
   "cell_type": "markdown",
   "metadata": {},
   "source": [
    "The training data has 1490 observations and 3 columns : Articleid, Text and Category. The Articleid is unique. There are 50 duplicate texts in training data.\n",
    "Above bar chart shows duplicate text by category."
   ]
  },
  {
   "cell_type": "code",
   "execution_count": 308,
   "metadata": {},
   "outputs": [
    {
     "name": "stdout",
     "output_type": "stream",
     "text": [
      "Shape of the training data:  (1440, 3)\n"
     ]
    }
   ],
   "source": [
    "# Remove the duplicate texts\n",
    "df_train.drop_duplicates(subset=['Text'], keep='first', inplace=True)\n",
    "# Reset the index\n",
    "df_train.reset_index(drop=True, inplace=True)\n",
    "\n",
    "# Print the shape of the training data\n",
    "print('Shape of the training data: ', df_train.shape)"
   ]
  },
  {
   "cell_type": "code",
   "execution_count": 309,
   "metadata": {},
   "outputs": [
    {
     "data": {
      "text/html": [
       "<div>\n",
       "<style scoped>\n",
       "    .dataframe tbody tr th:only-of-type {\n",
       "        vertical-align: middle;\n",
       "    }\n",
       "\n",
       "    .dataframe tbody tr th {\n",
       "        vertical-align: top;\n",
       "    }\n",
       "\n",
       "    .dataframe thead th {\n",
       "        text-align: right;\n",
       "    }\n",
       "</style>\n",
       "<table border=\"1\" class=\"dataframe\">\n",
       "  <thead>\n",
       "    <tr style=\"text-align: right;\">\n",
       "      <th></th>\n",
       "      <th>ArticleId</th>\n",
       "      <th>Text</th>\n",
       "      <th>Category</th>\n",
       "    </tr>\n",
       "  </thead>\n",
       "  <tbody>\n",
       "    <tr>\n",
       "      <th>0</th>\n",
       "      <td>1833</td>\n",
       "      <td>worldcom ex-boss launches defence lawyers defe...</td>\n",
       "      <td>0</td>\n",
       "    </tr>\n",
       "    <tr>\n",
       "      <th>1</th>\n",
       "      <td>154</td>\n",
       "      <td>german business confidence slides german busin...</td>\n",
       "      <td>0</td>\n",
       "    </tr>\n",
       "    <tr>\n",
       "      <th>2</th>\n",
       "      <td>1101</td>\n",
       "      <td>bbc poll indicates economic gloom citizens in ...</td>\n",
       "      <td>0</td>\n",
       "    </tr>\n",
       "    <tr>\n",
       "      <th>3</th>\n",
       "      <td>1976</td>\n",
       "      <td>lifestyle  governs mobile choice  faster  bett...</td>\n",
       "      <td>4</td>\n",
       "    </tr>\n",
       "    <tr>\n",
       "      <th>4</th>\n",
       "      <td>917</td>\n",
       "      <td>enron bosses in $168m payout eighteen former e...</td>\n",
       "      <td>0</td>\n",
       "    </tr>\n",
       "  </tbody>\n",
       "</table>\n",
       "</div>"
      ],
      "text/plain": [
       "   ArticleId                                               Text  Category\n",
       "0       1833  worldcom ex-boss launches defence lawyers defe...         0\n",
       "1        154  german business confidence slides german busin...         0\n",
       "2       1101  bbc poll indicates economic gloom citizens in ...         0\n",
       "3       1976  lifestyle  governs mobile choice  faster  bett...         4\n",
       "4        917  enron bosses in $168m payout eighteen former e...         0"
      ]
     },
     "execution_count": 309,
     "metadata": {},
     "output_type": "execute_result"
    }
   ],
   "source": [
    "#Manually encode the target variable\n",
    "df_train['Category'] = df_train['Category'].map({'business': 0, 'entertainment': 1, 'politics': 2, 'sport': 3, 'tech': 4})\n",
    "# Print the first 3 rows of the training data\n",
    "df_train.head(5)\n"
   ]
  },
  {
   "attachments": {},
   "cell_type": "markdown",
   "metadata": {},
   "source": [
    "Let's examine sample data from \"Text\" column. We want to ensure that the data has english words without any common words (stop words), special characters, comma's, punctuations etc.\n"
   ]
  },
  {
   "cell_type": "code",
   "execution_count": 310,
   "metadata": {},
   "outputs": [
    {
     "data": {
      "text/plain": [
       "'worldcom ex-boss launches defence lawyers defending former worldcom chief bernie ebbers against a battery of fraud charges have called a company whistleblower as their first witness.  cynthia cooper  worldcom s ex-head of internal accounting  alerted directors to irregular accounting practices at the us telecoms giant in 2002. her warnings led to the collapse of the firm following the discovery of an $11bn (£5.7bn) accounting fraud. mr ebbers has pleaded not guilty to charges of fraud and conspiracy.  prosecution lawyers have argued that mr ebbers orchestrated a series of accounting tricks at worldcom  ordering employees to hide expenses and inflate revenues to meet wall street earnings estimates. but ms cooper  who now runs her own consulting business  told a jury in new york on wednesday that external auditors arthur andersen had approved worldcom s accounting in early 2001 and 2002. she said andersen had given a  green light  to the procedures and practices used by worldcom. mr ebber s lawyers have said he was unaware of the fraud  arguing that auditors did not alert him to any problems.  ms cooper also said that during shareholder meetings mr ebbers often passed over technical questions to the company s finance chief  giving only  brief  answers himself. the prosecution s star witness  former worldcom financial chief scott sullivan  has said that mr ebbers ordered accounting adjustments at the firm  telling him to  hit our books . however  ms cooper said mr sullivan had not mentioned  anything uncomfortable  about worldcom s accounting during a 2001 audit committee meeting. mr ebbers could face a jail sentence of 85 years if convicted of all the charges he is facing. worldcom emerged from bankruptcy protection in 2004  and is now known as mci. last week  mci agreed to a buyout by verizon communications in a deal valued at $6.75bn.'"
      ]
     },
     "execution_count": 310,
     "metadata": {},
     "output_type": "execute_result"
    }
   ],
   "source": [
    "# Print text of the first row\n",
    "df_train['Text'][0]"
   ]
  },
  {
   "attachments": {},
   "cell_type": "markdown",
   "metadata": {},
   "source": [
    "There are special characters, full stops, numbers etc. Also lot of stop words e.g \"to\" , \"and\" etc. We don't want to skew results by including these characters in the model."
   ]
  },
  {
   "attachments": {},
   "cell_type": "markdown",
   "metadata": {},
   "source": [
    "We will use Python's Natulral Language Toolkit (nltk) : https://www.nltk.org/ , to analyze text data. "
   ]
  },
  {
   "cell_type": "code",
   "execution_count": 311,
   "metadata": {},
   "outputs": [
    {
     "name": "stderr",
     "output_type": "stream",
     "text": [
      "[nltk_data] Downloading package stopwords to /Users/kgb-\n",
      "[nltk_data]     mini/nltk_data...\n",
      "[nltk_data]   Package stopwords is already up-to-date!\n"
     ]
    }
   ],
   "source": [
    "# Write function to clean the text\n",
    "\n",
    "import re\n",
    "import nltk\n",
    "from nltk.corpus import stopwords\n",
    "from nltk.stem.porter import PorterStemmer\n",
    "nltk.download('stopwords')\n",
    "\n",
    "def clean_text(text):\n",
    "    # Remove non-alphabetic characters\n",
    "    text = re.sub('[^a-zA-Z]', ' ', text)\n",
    "    # Convert all characters to lowercase\n",
    "    text = text.lower()\n",
    "    # Split the text into words\n",
    "    text = text.split()\n",
    "    # Remove stopwords\n",
    "    text = [word for word in text if not word in set(stopwords.words('english'))]\n",
    "    # Stem the words\n",
    "    # ps = PorterStemmer()\n",
    "    # text = [ps.stem(word) for word in text]\n",
    "    # Join the words\n",
    "    text = ' '.join(text)\n",
    "    return text\n",
    "\n",
    "\n"
   ]
  },
  {
   "cell_type": "code",
   "execution_count": 312,
   "metadata": {},
   "outputs": [],
   "source": [
    "# Clean the text\n",
    "df_train['Text'] = df_train['Text'].apply(clean_text)\n",
    "df_test['Text'] = df_test['Text'].apply(clean_text)"
   ]
  },
  {
   "attachments": {},
   "cell_type": "markdown",
   "metadata": {},
   "source": [
    "Now that we cleaned text. Next step is to tokenize and lemmatize data. We will use NLTK to tokenize each article into a list of words. To tokenize, we use 'word_tokenize'\n",
    "function from NLTK.\n",
    "\n",
    "Lemmatization is a process of reducing each work to its base or dictionary form. For example, the words \"running\" and \"ran\" would both be reduce to the base form run. \n",
    "\n",
    "\n",
    "Ensure to install NLTK Data using following commend in macos\n",
    "python3 -m nltk.downloader popular"
   ]
  },
  {
   "cell_type": "code",
   "execution_count": 313,
   "metadata": {},
   "outputs": [
    {
     "data": {
      "text/plain": [
       "'worldcom ex bos launch defence lawyer defending former worldcom chief bernie ebbers battery fraud charge called company whistleblower first witness cynthia cooper worldcom ex head internal accounting alerted director irregular accounting practice u telecom giant warning led collapse firm following discovery bn bn accounting fraud mr ebbers pleaded guilty charge fraud conspiracy prosecution lawyer argued mr ebbers orchestrated series accounting trick worldcom ordering employee hide expense inflate revenue meet wall street earnings estimate m cooper run consulting business told jury new york wednesday external auditor arthur andersen approved worldcom accounting early said andersen given green light procedure practice used worldcom mr ebber lawyer said unaware fraud arguing auditor alert problem m cooper also said shareholder meeting mr ebbers often passed technical question company finance chief giving brief answer prosecution star witness former worldcom financial chief scott sullivan said mr ebbers ordered accounting adjustment firm telling hit book however m cooper said mr sullivan mentioned anything uncomfortable worldcom accounting audit committee meeting mr ebbers could face jail sentence year convicted charge facing worldcom emerged bankruptcy protection known mci last week mci agreed buyout verizon communication deal valued bn'"
      ]
     },
     "execution_count": 313,
     "metadata": {},
     "output_type": "execute_result"
    }
   ],
   "source": [
    "# Tokenize and lemmatising the text\n",
    "from nltk.stem import WordNetLemmatizer\n",
    "from nltk.tokenize import word_tokenize\n",
    "\n",
    "\n",
    "def lemmatize_text(text):\n",
    "    # Tokenize the text\n",
    "    tokens = word_tokenize(text)\n",
    "    # Lemmatize the text\n",
    "    lemmatizer = WordNetLemmatizer()\n",
    "    text = [lemmatizer.lemmatize(word) for word in tokens]\n",
    "    # Join the words\n",
    "    text = ' '.join(text)\n",
    "    return text\n",
    "\n",
    "# Lemmatize the text\n",
    "df_train['Text'] = df_train['Text'].apply(lemmatize_text)\n",
    "df_test['Text'] = df_test['Text'].apply(lemmatize_text)\n",
    "\n",
    "# Print the first row of the training data\n",
    "df_train['Text'][0]\n"
   ]
  },
  {
   "attachments": {},
   "cell_type": "markdown",
   "metadata": {},
   "source": [
    "##### Original Text\n",
    "------------------------------------------------------------------------------------------------------------------------------------\n",
    "worldcom ex-boss launches defence lawyers defending former worldcom chief bernie ebbers against a battery of fraud charges have called a company whistleblower as their first witness.  cynthia cooper  worldcom s ex-head of internal accounting  alerted directors to irregular accounting practices at the us telecoms giant in 2002. her warnings led to the collapse of the firm following the discovery of an $11bn (£5.7bn) accounting fraud.\n",
    "\n",
    "\n",
    "\n",
    "##### After Lemmanization\n",
    "------------------------------------------------------------------------------------------------------------------------------------\n",
    "worldcom ex bos launch defence lawyer defending former worldcom chief bernie ebbers battery fraud charge called company whistleblower first witness cynthia cooper worldcom ex head internal accounting alerted director irregular accounting practice u telecom giant warning led collapse firm following discovery bn bn accounting fraud \n"
   ]
  },
  {
   "cell_type": "code",
   "execution_count": 314,
   "metadata": {},
   "outputs": [],
   "source": [
    "X_train = df_train['Text']\n",
    "y_train = df_train['Category']\n",
    "X_test = df_test['Text']\n"
   ]
  },
  {
   "attachments": {},
   "cell_type": "markdown",
   "metadata": {},
   "source": [
    "### Instructions: Step 2  - Building and Training Models [35 pts]\n",
    "\n",
    "In the Kaggle competition, the training data has labels (category). Thus, it can be solved using supervised learning. In general, the more labeled data we have, the more accurate the supervised learning model will be. But unsupervised learning can be powerful even when there is a small number of labels or no labels. This assignment will apply an unsupervised approach, especially the matrix factorization method, to discover topics in the news articles and use the labels to check the accuracy.\n",
    "\n",
    "Here are some steps to guide this section: \n",
    "1) Think about this and answer: when you train the unsupervised model for matrix factorization, should you include texts (word features) from the test dataset or not as the input matrix? Why or why not?\n",
    "2) Build a model using the matrix factorization method(s) and predict the train and test data labels. Choose any hyperparameter (e.g., number of word features) to begin with.\n",
    "3) Measure the performances on predictions from both train and test datasets. You can use accuracy, confusion matrix, etc., to inspect the performance. You can get accuracy for the test data by submitting the result to Kaggle. \n",
    "4) Change hyperparameter(s) and record the results. We recommend including a summary table and/or graphs.\n",
    "5) Improve the model performance if you can- some ideas may include but are not limited to; using different feature extraction methods, fit models in different subsets of data, ensemble the model prediction results, etc. "
   ]
  },
  {
   "attachments": {},
   "cell_type": "markdown",
   "metadata": {},
   "source": [
    "Below code uses TfidVectorizer from scikit-learn library to vectorize the text of news articles into a document-term\n",
    "matrix. The document-term matrix represents the frequency of each term in each document (news article) weigheted by their\n",
    "inverse document frequency (IDF). The resulting matrix can be used as input to train a machine learning mode.\n",
    "\n",
    "1. First, the TfidfVectorizer class is imported from scikit-learn.\n",
    "2. An instance of the TfidfVectorizer is created with some parameters. The 'stop_words' parameter is set to 'english', which removes common English stop words from the text. The 'max_features' parameter is set to 1000, which limits the number of terms to the 1000 most frequent terms.\n",
    "3. The vectorizer is fit to the training data by calling the 'fit' method with the text data from the training dataset.\n",
    "4. The 'transform' method of the vectorizer is then called on the text data from both the training and test datasets to obtain the document-term matrix for each dataset.\n",
    "5. Finally, the shape of the training and test data matrices are printed to the console."
   ]
  },
  {
   "cell_type": "code",
   "execution_count": 315,
   "metadata": {},
   "outputs": [
    {
     "name": "stdout",
     "output_type": "stream",
     "text": [
      "Number of tokens:  4488\n",
      "Number of documents:  1440\n",
      "Number of features:  4488\n"
     ]
    }
   ],
   "source": [
    "# Use TF-IDF to vectorize the text\n",
    "from sklearn.feature_extraction.text import TfidfVectorizer\n",
    "# Create an instance of the TfidfVectorizer. Performs the TF-IDF transformation from a provided matrix of counts.\n",
    "tfidf = TfidfVectorizer(encoding = 'utf-8', ngram_range = (1,2),stop_words= None,lowercase = False, max_df = 0.95, \n",
    "                            min_df = 10,norm = 'l2',sublinear_tf = True)\n",
    "\n",
    "# Fit the vectorizer to the training data\n",
    "tfidvec_train = tfidf.fit_transform(X_train).toarray()\n",
    "tokens = tfidf.get_feature_names_out()\n",
    "\n",
    "print('Number of tokens: ', len(tokens))\n",
    "print('Number of documents: ', len(tfidvec_train))\n",
    "print('Number of features: ', len(tfidvec_train[0]))\n"
   ]
  },
  {
   "cell_type": "code",
   "execution_count": 316,
   "metadata": {},
   "outputs": [
    {
     "name": "stdout",
     "output_type": "stream",
     "text": [
      "Weights given to words by idf:\n"
     ]
    },
    {
     "data": {
      "text/html": [
       "<div>\n",
       "<style scoped>\n",
       "    .dataframe tbody tr th:only-of-type {\n",
       "        vertical-align: middle;\n",
       "    }\n",
       "\n",
       "    .dataframe tbody tr th {\n",
       "        vertical-align: top;\n",
       "    }\n",
       "\n",
       "    .dataframe thead th {\n",
       "        text-align: right;\n",
       "    }\n",
       "</style>\n",
       "<table border=\"1\" class=\"dataframe\">\n",
       "  <thead>\n",
       "    <tr style=\"text-align: right;\">\n",
       "      <th></th>\n",
       "      <th>idf_weights</th>\n",
       "    </tr>\n",
       "  </thead>\n",
       "  <tbody>\n",
       "    <tr>\n",
       "      <th>said</th>\n",
       "      <td>1.160765</td>\n",
       "    </tr>\n",
       "    <tr>\n",
       "      <th>year</th>\n",
       "      <td>1.413478</td>\n",
       "    </tr>\n",
       "    <tr>\n",
       "      <th>also</th>\n",
       "      <td>1.597269</td>\n",
       "    </tr>\n",
       "    <tr>\n",
       "      <th>would</th>\n",
       "      <td>1.662397</td>\n",
       "    </tr>\n",
       "    <tr>\n",
       "      <th>one</th>\n",
       "      <td>1.724873</td>\n",
       "    </tr>\n",
       "    <tr>\n",
       "      <th>...</th>\n",
       "      <td>...</td>\n",
       "    </tr>\n",
       "    <tr>\n",
       "      <th>surveyed</th>\n",
       "      <td>5.875197</td>\n",
       "    </tr>\n",
       "    <tr>\n",
       "      <th>middlesbrough</th>\n",
       "      <td>5.875197</td>\n",
       "    </tr>\n",
       "    <tr>\n",
       "      <th>robust</th>\n",
       "      <td>5.875197</td>\n",
       "    </tr>\n",
       "    <tr>\n",
       "      <th>drag</th>\n",
       "      <td>5.875197</td>\n",
       "    </tr>\n",
       "    <tr>\n",
       "      <th>prosperity</th>\n",
       "      <td>5.875197</td>\n",
       "    </tr>\n",
       "  </tbody>\n",
       "</table>\n",
       "<p>4488 rows × 1 columns</p>\n",
       "</div>"
      ],
      "text/plain": [
       "               idf_weights\n",
       "said              1.160765\n",
       "year              1.413478\n",
       "also              1.597269\n",
       "would             1.662397\n",
       "one               1.724873\n",
       "...                    ...\n",
       "surveyed          5.875197\n",
       "middlesbrough     5.875197\n",
       "robust            5.875197\n",
       "drag              5.875197\n",
       "prosperity        5.875197\n",
       "\n",
       "[4488 rows x 1 columns]"
      ]
     },
     "execution_count": 316,
     "metadata": {},
     "output_type": "execute_result"
    }
   ],
   "source": [
    "print(\"Weights given to words by idf:\")\n",
    "pd.DataFrame(tfidf.idf_, tfidf.get_feature_names_out(), columns=[\"idf_weights\"]).sort_values(by=\"idf_weights\")"
   ]
  },
  {
   "attachments": {},
   "cell_type": "markdown",
   "metadata": {},
   "source": [
    "Please note the shape of the resulting document-term matrix has more than 4000 features. To reduce dimenions, we can use Non-Negative matrix factorization (NMF) or Singular Value Decomposition (SVD) before being used as part of machine learning model."
   ]
  },
  {
   "cell_type": "code",
   "execution_count": 317,
   "metadata": {},
   "outputs": [
    {
     "name": "stdout",
     "output_type": "stream",
     "text": [
      "The size of W_train for training set is:  (1440, 5)\n",
      "The size of H_train for training is:  (5, 4488)\n"
     ]
    }
   ],
   "source": [
    "from sklearn.metrics import accuracy_score\n",
    "from sklearn.decomposition import NMF\n",
    "from time import time\n",
    "\n",
    "\n",
    "# Set the number of components and initialize the NMF model with given parameters\n",
    "n_components = 5\n",
    "nmf = NMF(n_components = 5, random_state = 42, solver = \"mu\", beta_loss = \"kullback-leibler\", max_iter= 1000)\n",
    "\n",
    "# Fit the NMF model to the training data\n",
    "model = nmf.fit(tfidvec_train)\n",
    "\n",
    "# Transform the training data into W_train and H_train matrices\n",
    "W_train = nmf.fit_transform(tfidvec_train)\n",
    "H_train = nmf.components_\n",
    "\n",
    "print(\"The size of W_train for training set is: \", W_train.shape)\n",
    "print(\"The size of H_train for training is: \", H_train.shape)\n",
    "\n"
   ]
  },
  {
   "cell_type": "code",
   "execution_count": 318,
   "metadata": {},
   "outputs": [
    {
     "name": "stdout",
     "output_type": "stream",
     "text": [
      "Topic 0:\n",
      "bn company said firm market year share growth bank economy\n",
      "Topic 1:\n",
      "game win player match champion england team club injury cup\n",
      "Topic 2:\n",
      "mr election government labour minister party said blair would tory\n",
      "Topic 3:\n",
      "film award star best show actor year music band oscar\n",
      "Topic 4:\n",
      "people technology phone user mobile computer use service software said\n"
     ]
    }
   ],
   "source": [
    "# Display the top 10 words for each topic\n",
    "for topic_idx, topic in enumerate(H_train):\n",
    "    print(\"Topic %d:\" % (topic_idx))\n",
    "    print(\" \".join([tokens[i]\n",
    "                    for i in topic.argsort()[:-10 - 1:-1]]))"
   ]
  },
  {
   "cell_type": "code",
   "execution_count": 319,
   "metadata": {},
   "outputs": [
    {
     "data": {
      "image/png": "[encoded data removed]",
      "text/plain": [
       "<Figure size 720x360 with 1 Axes>"
      ]
     },
     "metadata": {
      "needs_background": "light"
     },
     "output_type": "display_data"
    },
    {
     "data": {
      "image/png": "[encoded data removed]",
      "text/plain": [
       "<Figure size 432x288 with 1 Axes>"
      ]
     },
     "metadata": {
      "needs_background": "light"
     },
     "output_type": "display_data"
    },
    {
     "data": {
      "image/png": "[encoded data removed]",
      "text/plain": [
       "<Figure size 432x288 with 1 Axes>"
      ]
     },
     "metadata": {
      "needs_background": "light"
     },
     "output_type": "display_data"
    },
    {
     "data": {
      "image/png": "[encoded data removed]",
      "text/plain": [
       "<Figure size 432x288 with 1 Axes>"
      ]
     },
     "metadata": {
      "needs_background": "light"
     },
     "output_type": "display_data"
    },
    {
     "data": {
      "image/png": "[encoded data removed]",
      "text/plain": [
       "<Figure size 432x288 with 1 Axes>"
      ]
     },
     "metadata": {
      "needs_background": "light"
     },
     "output_type": "display_data"
    }
   ],
   "source": [
    "# Plot the top 10 words for each topic also dispay topic names\n",
    "plt.figure(figsize=(10, 5))\n",
    "plt.title('Top 10 words for each topic')\n",
    "plt.xlabel('Words')\n",
    "plt.ylabel('TF-IDF score')\n",
    "for topic_idx, topic in enumerate(H_train):\n",
    "    plt.barh(range(10), np.sort(topic)[-10:], align='center')\n",
    "    plt.yticks(range(10), np.array(tokens)[np.argsort(topic)[-10:]])\n",
    "    plt.show()\n"
   ]
  },
  {
   "cell_type": "code",
   "execution_count": 320,
   "metadata": {},
   "outputs": [
    {
     "data": {
      "image/png": "[encoded data removed]",
      "text/plain": [
       "<Figure size 720x360 with 1 Axes>"
      ]
     },
     "metadata": {
      "needs_background": "light"
     },
     "output_type": "display_data"
    }
   ],
   "source": [
    "# Plot the distribution of the topics by category\n",
    "plt.figure(figsize=(10, 5))\n",
    "plt.title('Distribution of the topics by category')\n",
    "plt.xlabel('Topics')\n",
    "plt.ylabel('Number of articles')\n",
    "plt.hist(np.argmax(W_train, axis=1)[y_train == 0], bins=5, alpha=0.5, label='business')\n",
    "plt.hist(np.argmax(W_train, axis=1)[y_train == 1], bins=5, alpha=0.5, label='entertainment')\n",
    "plt.hist(np.argmax(W_train, axis=1)[y_train == 2], bins=5, alpha=0.5, label='politics')\n",
    "plt.hist(np.argmax(W_train, axis=1)[y_train == 3], bins=5, alpha=0.5, label='sport')\n",
    "plt.hist(np.argmax(W_train, axis=1)[y_train == 4], bins=5, alpha=0.5, label='tech')\n",
    "\n",
    "plt.legend()\n",
    "plt.show()"
   ]
  },
  {
   "cell_type": "code",
   "execution_count": 321,
   "metadata": {},
   "outputs": [],
   "source": [
    "#Write a method which takes W_train as input and returns the topic incides for each document in the training set sorted by the highest probability\n",
    "def get_topic_indices(W_train):\n",
    "    topic_indices = []\n",
    "    for i in range(len(W_train)):\n",
    "        topic_indices.append(np.argmax(W_train[i]))\n",
    "    return topic_indices\n",
    "\n",
    "# Get the topic indices for each document in the training set\n",
    "topic_indices = get_topic_indices(W_train)\n"
   ]
  },
  {
   "cell_type": "code",
   "execution_count": 322,
   "metadata": {},
   "outputs": [
    {
     "data": {
      "text/plain": [
       "0.5513888888888889"
      ]
     },
     "execution_count": 322,
     "metadata": {},
     "output_type": "execute_result"
    }
   ],
   "source": [
    "\n",
    "accuracy_score(y_train , topic_indices)"
   ]
  },
  {
   "attachments": {},
   "cell_type": "markdown",
   "metadata": {},
   "source": [
    "The accuracy score based on above parameters is 55%. In order to find optimal permutation of predicted labels based on the training data, we can use brute-force method appraoch to try all possible permutations of the labels and choose the one that results in the highest accuracy. "
   ]
  },
  {
   "cell_type": "code",
   "execution_count": 323,
   "metadata": {},
   "outputs": [
    {
     "name": "stdout",
     "output_type": "stream",
     "text": [
      "Accuracy score:  0.9583333333333334\n"
     ]
    },
    {
     "data": {
      "text/plain": [
       "array([0, 3, 2, 1, 4])"
      ]
     },
     "execution_count": 323,
     "metadata": {},
     "output_type": "execute_result"
    }
   ],
   "source": [
    "# Find the optimal permutation based on training data\n",
    "# Get the permutation matrix\n",
    "perm = np.array([np.argmax(np.bincount(y_train[np.argmax(W_train, axis=1) == i])) for i in range(n_components)])\n",
    "# Permute the rows of W\n",
    "W_perm = W_train[:, perm]\n",
    "# Permute the rows of H\n",
    "H_perm = nmf.components_[perm, :]\n",
    "\n",
    "# Display accuracy score    \n",
    "print('Accuracy score: ', accuracy_score(y_train, np.argmax(W_perm, axis=1)))\n",
    "\n",
    "perm\n"
   ]
  },
  {
   "cell_type": "code",
   "execution_count": 324,
   "metadata": {},
   "outputs": [
    {
     "data": {
      "image/png": "[encoded data removed]",
      "text/plain": [
       "<Figure size 1080x720 with 2 Axes>"
      ]
     },
     "metadata": {
      "needs_background": "light"
     },
     "output_type": "display_data"
    }
   ],
   "source": [
    "# Permute the rows of the confusion matrix\n",
    "confusion_matrix_perm = confusion_matrix(y_train, np.argmax(W_perm, axis=1))\n",
    "# Plot the confusion matrix\n",
    "plt.figure(figsize=(15, 10))\n",
    "sns.heatmap(confusion_matrix_perm, annot=True, fmt='d', cmap='Blues')\n",
    "plt.title('Confusion matrix')\n",
    "plt.xlabel('Predicted label')\n",
    "plt.ylabel('True label')\n",
    "plt.show()\n"
   ]
  },
  {
   "cell_type": "code",
   "execution_count": 325,
   "metadata": {},
   "outputs": [
    {
     "data": {
      "text/html": [
       "<div>\n",
       "<style scoped>\n",
       "    .dataframe tbody tr th:only-of-type {\n",
       "        vertical-align: middle;\n",
       "    }\n",
       "\n",
       "    .dataframe tbody tr th {\n",
       "        vertical-align: top;\n",
       "    }\n",
       "\n",
       "    .dataframe thead th {\n",
       "        text-align: right;\n",
       "    }\n",
       "</style>\n",
       "<table border=\"1\" class=\"dataframe\">\n",
       "  <thead>\n",
       "    <tr style=\"text-align: right;\">\n",
       "      <th></th>\n",
       "      <th>ArticleId</th>\n",
       "      <th>Text</th>\n",
       "      <th>Category</th>\n",
       "      <th>PredictedCategory</th>\n",
       "    </tr>\n",
       "  </thead>\n",
       "  <tbody>\n",
       "    <tr>\n",
       "      <th>0</th>\n",
       "      <td>1833</td>\n",
       "      <td>worldcom ex bos launch defence lawyer defendin...</td>\n",
       "      <td>business</td>\n",
       "      <td>business</td>\n",
       "    </tr>\n",
       "    <tr>\n",
       "      <th>1</th>\n",
       "      <td>154</td>\n",
       "      <td>german business confidence slide german busine...</td>\n",
       "      <td>business</td>\n",
       "      <td>business</td>\n",
       "    </tr>\n",
       "    <tr>\n",
       "      <th>2</th>\n",
       "      <td>1101</td>\n",
       "      <td>bbc poll indicates economic gloom citizen majo...</td>\n",
       "      <td>business</td>\n",
       "      <td>business</td>\n",
       "    </tr>\n",
       "    <tr>\n",
       "      <th>3</th>\n",
       "      <td>1976</td>\n",
       "      <td>lifestyle governs mobile choice faster better ...</td>\n",
       "      <td>tech</td>\n",
       "      <td>tech</td>\n",
       "    </tr>\n",
       "    <tr>\n",
       "      <th>4</th>\n",
       "      <td>917</td>\n",
       "      <td>enron boss payout eighteen former enron direct...</td>\n",
       "      <td>business</td>\n",
       "      <td>business</td>\n",
       "    </tr>\n",
       "    <tr>\n",
       "      <th>5</th>\n",
       "      <td>1582</td>\n",
       "      <td>howard truanted play snooker conservative lead...</td>\n",
       "      <td>politics</td>\n",
       "      <td>politics</td>\n",
       "    </tr>\n",
       "    <tr>\n",
       "      <th>6</th>\n",
       "      <td>651</td>\n",
       "      <td>wale silent grand slam talk rhys williams say ...</td>\n",
       "      <td>sport</td>\n",
       "      <td>sport</td>\n",
       "    </tr>\n",
       "    <tr>\n",
       "      <th>7</th>\n",
       "      <td>1797</td>\n",
       "      <td>french honour director parker british film dir...</td>\n",
       "      <td>entertainment</td>\n",
       "      <td>entertainment</td>\n",
       "    </tr>\n",
       "    <tr>\n",
       "      <th>8</th>\n",
       "      <td>2034</td>\n",
       "      <td>car giant hit mercedes slump slump profitabili...</td>\n",
       "      <td>business</td>\n",
       "      <td>business</td>\n",
       "    </tr>\n",
       "    <tr>\n",
       "      <th>9</th>\n",
       "      <td>1866</td>\n",
       "      <td>fockers fuel festive film chart comedy meet fo...</td>\n",
       "      <td>entertainment</td>\n",
       "      <td>entertainment</td>\n",
       "    </tr>\n",
       "    <tr>\n",
       "      <th>10</th>\n",
       "      <td>1683</td>\n",
       "      <td>blair reject iraq advice call tony blair rejec...</td>\n",
       "      <td>politics</td>\n",
       "      <td>politics</td>\n",
       "    </tr>\n",
       "    <tr>\n",
       "      <th>11</th>\n",
       "      <td>1153</td>\n",
       "      <td>housewife lift channel rating debut u televisi...</td>\n",
       "      <td>entertainment</td>\n",
       "      <td>entertainment</td>\n",
       "    </tr>\n",
       "    <tr>\n",
       "      <th>12</th>\n",
       "      <td>1028</td>\n",
       "      <td>uk coal plunge deeper loss share uk coal falle...</td>\n",
       "      <td>business</td>\n",
       "      <td>business</td>\n",
       "    </tr>\n",
       "    <tr>\n",
       "      <th>13</th>\n",
       "      <td>812</td>\n",
       "      <td>bp surge ahead high oil price oil giant bp ann...</td>\n",
       "      <td>business</td>\n",
       "      <td>business</td>\n",
       "    </tr>\n",
       "    <tr>\n",
       "      <th>14</th>\n",
       "      <td>707</td>\n",
       "      <td>ireland argentina injury time dropped goal ron...</td>\n",
       "      <td>sport</td>\n",
       "      <td>sport</td>\n",
       "    </tr>\n",
       "  </tbody>\n",
       "</table>\n",
       "</div>"
      ],
      "text/plain": [
       "    ArticleId                                               Text  \\\n",
       "0        1833  worldcom ex bos launch defence lawyer defendin...   \n",
       "1         154  german business confidence slide german busine...   \n",
       "2        1101  bbc poll indicates economic gloom citizen majo...   \n",
       "3        1976  lifestyle governs mobile choice faster better ...   \n",
       "4         917  enron boss payout eighteen former enron direct...   \n",
       "5        1582  howard truanted play snooker conservative lead...   \n",
       "6         651  wale silent grand slam talk rhys williams say ...   \n",
       "7        1797  french honour director parker british film dir...   \n",
       "8        2034  car giant hit mercedes slump slump profitabili...   \n",
       "9        1866  fockers fuel festive film chart comedy meet fo...   \n",
       "10       1683  blair reject iraq advice call tony blair rejec...   \n",
       "11       1153  housewife lift channel rating debut u televisi...   \n",
       "12       1028  uk coal plunge deeper loss share uk coal falle...   \n",
       "13        812  bp surge ahead high oil price oil giant bp ann...   \n",
       "14        707  ireland argentina injury time dropped goal ron...   \n",
       "\n",
       "         Category PredictedCategory  \n",
       "0        business          business  \n",
       "1        business          business  \n",
       "2        business          business  \n",
       "3            tech              tech  \n",
       "4        business          business  \n",
       "5        politics          politics  \n",
       "6           sport             sport  \n",
       "7   entertainment     entertainment  \n",
       "8        business          business  \n",
       "9   entertainment     entertainment  \n",
       "10       politics          politics  \n",
       "11  entertainment     entertainment  \n",
       "12       business          business  \n",
       "13       business          business  \n",
       "14          sport             sport  "
      ]
     },
     "execution_count": 325,
     "metadata": {},
     "output_type": "execute_result"
    }
   ],
   "source": [
    "# Create a dataframe with articleid, text, category and predicted category\n",
    "df_pred = pd.DataFrame({'ArticleId': df_train['ArticleId'], 'Text': df_train['Text'], 'Category': df_train['Category'], 'PredictedCategory': np.argmax(W_perm, axis=1)})\n",
    "# Reverse the mapping of the target variable\n",
    "df_pred['Category'] = df_pred['Category'].map({0: 'business', 1: 'entertainment', 2: 'politics', 3: 'sport', 4: 'tech'})\n",
    "df_pred['PredictedCategory'] = df_pred['PredictedCategory'].map({0: 'business', 1: 'entertainment', 2: 'politics', 3: 'sport', 4: 'tech'})\n",
    "# Print the first 15 rows of the dataframe\n",
    "df_pred.head(15)"
   ]
  },
  {
   "cell_type": "code",
   "execution_count": 326,
   "metadata": {},
   "outputs": [
    {
     "data": {
      "text/html": [
       "<div>\n",
       "<style scoped>\n",
       "    .dataframe tbody tr th:only-of-type {\n",
       "        vertical-align: middle;\n",
       "    }\n",
       "\n",
       "    .dataframe tbody tr th {\n",
       "        vertical-align: top;\n",
       "    }\n",
       "\n",
       "    .dataframe thead th {\n",
       "        text-align: right;\n",
       "    }\n",
       "</style>\n",
       "<table border=\"1\" class=\"dataframe\">\n",
       "  <thead>\n",
       "    <tr style=\"text-align: right;\">\n",
       "      <th></th>\n",
       "      <th>0</th>\n",
       "    </tr>\n",
       "  </thead>\n",
       "  <tbody>\n",
       "    <tr>\n",
       "      <th>0</th>\n",
       "      <td>3</td>\n",
       "    </tr>\n",
       "    <tr>\n",
       "      <th>1</th>\n",
       "      <td>1</td>\n",
       "    </tr>\n",
       "    <tr>\n",
       "      <th>2</th>\n",
       "      <td>3</td>\n",
       "    </tr>\n",
       "    <tr>\n",
       "      <th>3</th>\n",
       "      <td>0</td>\n",
       "    </tr>\n",
       "    <tr>\n",
       "      <th>4</th>\n",
       "      <td>3</td>\n",
       "    </tr>\n",
       "  </tbody>\n",
       "</table>\n",
       "</div>"
      ],
      "text/plain": [
       "   0\n",
       "0  3\n",
       "1  1\n",
       "2  3\n",
       "3  0\n",
       "4  3"
      ]
     },
     "execution_count": 326,
     "metadata": {},
     "output_type": "execute_result"
    }
   ],
   "source": [
    "\n",
    "# Create a dataframe with articleid, text, category and predicted category\n",
    "tfidvec_test = tfidf.fit_transform(df_test['Text']).toarray()\n",
    "y_test_hat = nmf.fit_transform(tfidvec_test)\n",
    "#index with highest probability is our predicted class\n",
    "y_test_hat = np.argmax(y_test_hat, axis=1)\n",
    "# create dataframe\n",
    "y_test_hat = pd.DataFrame(y_test_hat)\n",
    "\n",
    "# assign best labelorder to prediction\n",
    "y_test_hat = y_test_hat.replace(np.unique(y_test_hat), [0, 3, 2, 1, 4])\n",
    "y_test_hat.head()"
   ]
  },
  {
   "cell_type": "code",
   "execution_count": 327,
   "metadata": {},
   "outputs": [
    {
     "data": {
      "text/html": [
       "<div>\n",
       "<style scoped>\n",
       "    .dataframe tbody tr th:only-of-type {\n",
       "        vertical-align: middle;\n",
       "    }\n",
       "\n",
       "    .dataframe tbody tr th {\n",
       "        vertical-align: top;\n",
       "    }\n",
       "\n",
       "    .dataframe thead th {\n",
       "        text-align: right;\n",
       "    }\n",
       "</style>\n",
       "<table border=\"1\" class=\"dataframe\">\n",
       "  <thead>\n",
       "    <tr style=\"text-align: right;\">\n",
       "      <th></th>\n",
       "      <th>ArticleId</th>\n",
       "      <th>Category</th>\n",
       "    </tr>\n",
       "  </thead>\n",
       "  <tbody>\n",
       "    <tr>\n",
       "      <th>0</th>\n",
       "      <td>1018</td>\n",
       "      <td>sport</td>\n",
       "    </tr>\n",
       "    <tr>\n",
       "      <th>1</th>\n",
       "      <td>1319</td>\n",
       "      <td>entertainment</td>\n",
       "    </tr>\n",
       "    <tr>\n",
       "      <th>2</th>\n",
       "      <td>1138</td>\n",
       "      <td>sport</td>\n",
       "    </tr>\n",
       "    <tr>\n",
       "      <th>3</th>\n",
       "      <td>459</td>\n",
       "      <td>business</td>\n",
       "    </tr>\n",
       "    <tr>\n",
       "      <th>4</th>\n",
       "      <td>1020</td>\n",
       "      <td>sport</td>\n",
       "    </tr>\n",
       "    <tr>\n",
       "      <th>5</th>\n",
       "      <td>51</td>\n",
       "      <td>sport</td>\n",
       "    </tr>\n",
       "    <tr>\n",
       "      <th>6</th>\n",
       "      <td>2025</td>\n",
       "      <td>politics</td>\n",
       "    </tr>\n",
       "    <tr>\n",
       "      <th>7</th>\n",
       "      <td>1479</td>\n",
       "      <td>politics</td>\n",
       "    </tr>\n",
       "    <tr>\n",
       "      <th>8</th>\n",
       "      <td>27</td>\n",
       "      <td>tech</td>\n",
       "    </tr>\n",
       "    <tr>\n",
       "      <th>9</th>\n",
       "      <td>397</td>\n",
       "      <td>business</td>\n",
       "    </tr>\n",
       "    <tr>\n",
       "      <th>10</th>\n",
       "      <td>1644</td>\n",
       "      <td>business</td>\n",
       "    </tr>\n",
       "    <tr>\n",
       "      <th>11</th>\n",
       "      <td>263</td>\n",
       "      <td>entertainment</td>\n",
       "    </tr>\n",
       "    <tr>\n",
       "      <th>12</th>\n",
       "      <td>765</td>\n",
       "      <td>politics</td>\n",
       "    </tr>\n",
       "    <tr>\n",
       "      <th>13</th>\n",
       "      <td>2134</td>\n",
       "      <td>entertainment</td>\n",
       "    </tr>\n",
       "    <tr>\n",
       "      <th>14</th>\n",
       "      <td>297</td>\n",
       "      <td>tech</td>\n",
       "    </tr>\n",
       "  </tbody>\n",
       "</table>\n",
       "</div>"
      ],
      "text/plain": [
       "    ArticleId       Category\n",
       "0        1018          sport\n",
       "1        1319  entertainment\n",
       "2        1138          sport\n",
       "3         459       business\n",
       "4        1020          sport\n",
       "5          51          sport\n",
       "6        2025       politics\n",
       "7        1479       politics\n",
       "8          27           tech\n",
       "9         397       business\n",
       "10       1644       business\n",
       "11        263  entertainment\n",
       "12        765       politics\n",
       "13       2134  entertainment\n",
       "14        297           tech"
      ]
     },
     "execution_count": 327,
     "metadata": {},
     "output_type": "execute_result"
    }
   ],
   "source": [
    "# Create a dataframe with articleid, text and predicted category\n",
    "df_pred = pd.DataFrame({'ArticleId': df_test['ArticleId'],  'PredictedCategory': y_test_hat[0]})\n",
    "# Reverse the mapping of the target variable\n",
    "df_pred['Category'] = df_pred['PredictedCategory'].map({0: 'business', 1: 'entertainment', 2: 'politics', 3: 'sport', 4: 'tech'})\n",
    "# Print the first 15 rows of the dataframe\n",
    "df_pred.head(15)\n",
    "\n",
    "# Remove predicted category column\n",
    "df_pred.drop('PredictedCategory', axis=1, inplace=True)\n",
    "# Print the first 15 rows of the dataframe\n",
    "df_pred.head(15)\n",
    "\n"
   ]
  },
  {
   "attachments": {},
   "cell_type": "markdown",
   "metadata": {},
   "source": [
    "### Instructions: Step 3  - Compared with Supervised Learning [30 pts]\n",
    "\n",
    "Use the following steps to guide your work:\n",
    "\n",
    "1) Pick and train a supervised learning method(s) and compare the results (train and test performance)\n",
    "2) Discuss comparison with the unsupervised approach. You may try changing the train data size (e.g., Include only 10%, 20%, 50% of labels, and observe train/test performance changes). Which methods are data-efficient (require a smaller amount of data to achieve similar results)? What about overfitting?"
   ]
  },
  {
   "attachments": {},
   "cell_type": "markdown",
   "metadata": {},
   "source": [
    "### Train Supervised Learning Methods\n",
    "\n",
    "Below is a general supervised learning model which takes model, tfidf, X_train, X_test, y_train and y_test as arguments"
   ]
  },
  {
   "cell_type": "code",
   "execution_count": 328,
   "metadata": {},
   "outputs": [
    {
     "ename": "ImportError",
     "evalue": "cannot import name 'logistic_regression' from 'sklearn.ensemble' (/usr/local/lib/python3.9/site-packages/sklearn/ensemble/__init__.py)",
     "output_type": "error",
     "traceback": [
      "\u001b[0;31m---------------------------------------------------------------------------\u001b[0m",
      "\u001b[0;31mImportError\u001b[0m                               Traceback (most recent call last)",
      "\u001b[1;32m/Users/kgb-mini/Documents/GitHub/BBC/BBC.ipynb Cell 43\u001b[0m in \u001b[0;36m<module>\u001b[0;34m\u001b[0m\n\u001b[1;32m      <a href='vscode-notebook-cell:/Users/kgb-mini/Documents/GitHub/BBC/BBC.ipynb#Y120sZmlsZQ%3D%3D?line=1'>2</a>\u001b[0m \u001b[39mfrom\u001b[39;00m \u001b[39msklearn\u001b[39;00m\u001b[39m.\u001b[39;00m\u001b[39mmetrics\u001b[39;00m \u001b[39mimport\u001b[39;00m accuracy_score\n\u001b[1;32m      <a href='vscode-notebook-cell:/Users/kgb-mini/Documents/GitHub/BBC/BBC.ipynb#Y120sZmlsZQ%3D%3D?line=2'>3</a>\u001b[0m \u001b[39mfrom\u001b[39;00m \u001b[39msklearn\u001b[39;00m\u001b[39m.\u001b[39;00m\u001b[39mensemble\u001b[39;00m \u001b[39mimport\u001b[39;00m RandomForestClassifier\n\u001b[0;32m----> <a href='vscode-notebook-cell:/Users/kgb-mini/Documents/GitHub/BBC/BBC.ipynb#Y120sZmlsZQ%3D%3D?line=3'>4</a>\u001b[0m \u001b[39mfrom\u001b[39;00m \u001b[39msklearn\u001b[39;00m\u001b[39m.\u001b[39;00m\u001b[39mensemble\u001b[39;00m \u001b[39mimport\u001b[39;00m logistic_regression\n\u001b[1;32m      <a href='vscode-notebook-cell:/Users/kgb-mini/Documents/GitHub/BBC/BBC.ipynb#Y120sZmlsZQ%3D%3D?line=5'>6</a>\u001b[0m \u001b[39mdef\u001b[39;00m \u001b[39mevaluate_model\u001b[39m(model, tfidf, X_train, X_test, y_train, y_test):\n\u001b[1;32m      <a href='vscode-notebook-cell:/Users/kgb-mini/Documents/GitHub/BBC/BBC.ipynb#Y120sZmlsZQ%3D%3D?line=6'>7</a>\u001b[0m     \u001b[39m# Transform the training and test set\u001b[39;00m\n\u001b[1;32m      <a href='vscode-notebook-cell:/Users/kgb-mini/Documents/GitHub/BBC/BBC.ipynb#Y120sZmlsZQ%3D%3D?line=7'>8</a>\u001b[0m     X_train \u001b[39m=\u001b[39m tfidf\u001b[39m.\u001b[39mtransform(X_train)\n",
      "\u001b[0;31mImportError\u001b[0m: cannot import name 'logistic_regression' from 'sklearn.ensemble' (/usr/local/lib/python3.9/site-packages/sklearn/ensemble/__init__.py)"
     ]
    }
   ],
   "source": [
    "from sklearn.model_selection import train_test_split\n",
    "from sklearn.metrics import accuracy_score\n",
    "from sklearn.ensemble import RandomForestClassifier\n",
    "from sklearn.ensemble import logistic_regression\n",
    "\n",
    "def evaluate_model(model, tfidf, X_train, X_test, y_train, y_test):\n",
    "    # Transform the training and test set\n",
    "    X_train = tfidf.transform(X_train)\n",
    "    X_test = tfidf.transform(X_test)\n",
    "    # Fit the model on the training set\n",
    "    model.fit(X_train, y_train)\n",
    "    # Predict the labels for the test set\n",
    "    y_pred = model.predict(X_test)\n",
    "    acc = accuracy_score(y_test, y_pred)\n",
    "    return acc, y_pred, y_test\n"
   ]
  },
  {
   "cell_type": "code",
   "execution_count": null,
   "metadata": {},
   "outputs": [
    {
     "data": {
      "text/html": [
       "<style>#sk-container-id-3 {color: black;background-color: white;}#sk-container-id-3 pre{padding: 0;}#sk-container-id-3 div.sk-toggleable {background-color: white;}#sk-container-id-3 label.sk-toggleable__label {cursor: pointer;display: block;width: 100%;margin-bottom: 0;padding: 0.3em;box-sizing: border-box;text-align: center;}#sk-container-id-3 label.sk-toggleable__label-arrow:before {content: \"▸\";float: left;margin-right: 0.25em;color: #696969;}#sk-container-id-3 label.sk-toggleable__label-arrow:hover:before {color: black;}#sk-container-id-3 div.sk-estimator:hover label.sk-toggleable__label-arrow:before {color: black;}#sk-container-id-3 div.sk-toggleable__content {max-height: 0;max-width: 0;overflow: hidden;text-align: left;background-color: #f0f8ff;}#sk-container-id-3 div.sk-toggleable__content pre {margin: 0.2em;color: black;border-radius: 0.25em;background-color: #f0f8ff;}#sk-container-id-3 input.sk-toggleable__control:checked~div.sk-toggleable__content {max-height: 200px;max-width: 100%;overflow: auto;}#sk-container-id-3 input.sk-toggleable__control:checked~label.sk-toggleable__label-arrow:before {content: \"▾\";}#sk-container-id-3 div.sk-estimator input.sk-toggleable__control:checked~label.sk-toggleable__label {background-color: #d4ebff;}#sk-container-id-3 div.sk-label input.sk-toggleable__control:checked~label.sk-toggleable__label {background-color: #d4ebff;}#sk-container-id-3 input.sk-hidden--visually {border: 0;clip: rect(1px 1px 1px 1px);clip: rect(1px, 1px, 1px, 1px);height: 1px;margin: -1px;overflow: hidden;padding: 0;position: absolute;width: 1px;}#sk-container-id-3 div.sk-estimator {font-family: monospace;background-color: #f0f8ff;border: 1px dotted black;border-radius: 0.25em;box-sizing: border-box;margin-bottom: 0.5em;}#sk-container-id-3 div.sk-estimator:hover {background-color: #d4ebff;}#sk-container-id-3 div.sk-parallel-item::after {content: \"\";width: 100%;border-bottom: 1px solid gray;flex-grow: 1;}#sk-container-id-3 div.sk-label:hover label.sk-toggleable__label {background-color: #d4ebff;}#sk-container-id-3 div.sk-serial::before {content: \"\";position: absolute;border-left: 1px solid gray;box-sizing: border-box;top: 0;bottom: 0;left: 50%;z-index: 0;}#sk-container-id-3 div.sk-serial {display: flex;flex-direction: column;align-items: center;background-color: white;padding-right: 0.2em;padding-left: 0.2em;position: relative;}#sk-container-id-3 div.sk-item {position: relative;z-index: 1;}#sk-container-id-3 div.sk-parallel {display: flex;align-items: stretch;justify-content: center;background-color: white;position: relative;}#sk-container-id-3 div.sk-item::before, #sk-container-id-3 div.sk-parallel-item::before {content: \"\";position: absolute;border-left: 1px solid gray;box-sizing: border-box;top: 0;bottom: 0;left: 50%;z-index: -1;}#sk-container-id-3 div.sk-parallel-item {display: flex;flex-direction: column;z-index: 1;position: relative;background-color: white;}#sk-container-id-3 div.sk-parallel-item:first-child::after {align-self: flex-end;width: 50%;}#sk-container-id-3 div.sk-parallel-item:last-child::after {align-self: flex-start;width: 50%;}#sk-container-id-3 div.sk-parallel-item:only-child::after {width: 0;}#sk-container-id-3 div.sk-dashed-wrapped {border: 1px dashed gray;margin: 0 0.4em 0.5em 0.4em;box-sizing: border-box;padding-bottom: 0.4em;background-color: white;}#sk-container-id-3 div.sk-label label {font-family: monospace;font-weight: bold;display: inline-block;line-height: 1.2em;}#sk-container-id-3 div.sk-label-container {text-align: center;}#sk-container-id-3 div.sk-container {/* jupyter's `normalize.less` sets `[hidden] { display: none; }` but bootstrap.min.css set `[hidden] { display: none !important; }` so we also need the `!important` here to be able to override the default hidden behavior on the sphinx rendered scikit-learn.org. See: https://github.com/scikit-learn/scikit-learn/issues/21755 */display: inline-block !important;position: relative;}#sk-container-id-3 div.sk-text-repr-fallback {display: none;}</style><div id=\"sk-container-id-3\" class=\"sk-top-container\"><div class=\"sk-text-repr-fallback\"><pre>TfidfVectorizer(max_features=1000, stop_words=&#x27;english&#x27;)</pre><b>In a Jupyter environment, please rerun this cell to show the HTML representation or trust the notebook. <br />On GitHub, the HTML representation is unable to render, please try loading this page with nbviewer.org.</b></div><div class=\"sk-container\" hidden><div class=\"sk-item\"><div class=\"sk-estimator sk-toggleable\"><input class=\"sk-toggleable__control sk-hidden--visually\" id=\"sk-estimator-id-3\" type=\"checkbox\" checked><label for=\"sk-estimator-id-3\" class=\"sk-toggleable__label sk-toggleable__label-arrow\">TfidfVectorizer</label><div class=\"sk-toggleable__content\"><pre>TfidfVectorizer(max_features=1000, stop_words=&#x27;english&#x27;)</pre></div></div></div></div></div>"
      ],
      "text/plain": [
       "TfidfVectorizer(max_features=1000, stop_words='english')"
      ]
     },
     "execution_count": 283,
     "metadata": {},
     "output_type": "execute_result"
    }
   ],
   "source": [
    "# Create a tf-idf vectorizer\n",
    "tfidf = TfidfVectorizer(stop_words='english', max_features=1000)\n",
    "# Fit the vectorizer on the entire dataset\n",
    "tfidf.fit(df_train['Text'])"
   ]
  },
  {
   "attachments": {},
   "cell_type": "markdown",
   "metadata": {},
   "source": [
    "### Create Random Forest Model"
   ]
  },
  {
   "cell_type": "code",
   "execution_count": null,
   "metadata": {},
   "outputs": [
    {
     "name": "stdout",
     "output_type": "stream",
     "text": [
      "Random forest accuracy score for size 0.1: 0.9050925925925926\n",
      "Random forest accuracy score for size 0.2: 0.9053819444444444\n",
      "Random forest accuracy score for size 0.3: 0.9186507936507936\n",
      "Random forest accuracy score for size 0.4: 0.9305555555555556\n",
      "Random forest accuracy score for size 0.5: 0.9319444444444445\n",
      "Random forest accuracy score for size 0.6: 0.9513888888888888\n",
      "Random forest accuracy score for size 0.7: 0.9422632794457275\n",
      "Random forest accuracy score for size 0.8: 0.9479166666666666\n"
     ]
    }
   ],
   "source": [
    "# Create a random forest model\n",
    "rf_model = RandomForestClassifier()\n",
    "# Evaluate the random forest model with different values of size\n",
    "sizes = [0.1, 0.2, 0.3, 0.4, 0.5, 0.6,0.7, 0.8]\n",
    "rf_accs = []\n",
    "for size in sizes:\n",
    "    # Split the dataset into training and test sets\n",
    "    X_train, X_test, y_train, y_test = train_test_split(df_train['Text'], df_train['Category'], train_size=size, random_state=42)\n",
    "    acc, y_pred, y_test = evaluate_model(rf_model, tfidf, X_train, X_test, y_train, y_test)\n",
    "    rf_accs.append(acc)\n",
    "    print('Random forest accuracy score for size {}: {}'.format(size, acc))\n"
   ]
  },
  {
   "attachments": {},
   "cell_type": "markdown",
   "metadata": {},
   "source": [
    "### Create Logistic Regression Model"
   ]
  },
  {
   "cell_type": "code",
   "execution_count": null,
   "metadata": {},
   "outputs": [
    {
     "name": "stdout",
     "output_type": "stream",
     "text": [
      "Logistic regression accuracy score for size 0.1: 0.9166666666666666\n",
      "Logistic regression accuracy score for size 0.2: 0.9357638888888888\n",
      "Logistic regression accuracy score for size 0.3: 0.9494047619047619\n",
      "Logistic regression accuracy score for size 0.4: 0.9560185185185185\n",
      "Logistic regression accuracy score for size 0.5: 0.9555555555555556\n",
      "Logistic regression accuracy score for size 0.6: 0.9600694444444444\n",
      "Logistic regression accuracy score for size 0.7: 0.9630484988452656\n",
      "Logistic regression accuracy score for size 0.8: 0.9548611111111112\n"
     ]
    }
   ],
   "source": [
    "from sklearn.linear_model import LogisticRegression\n",
    "\n",
    "# Create a logistic regression model\n",
    "lr_model = LogisticRegression()\n",
    "# Evaluate the logistic regression model with different values of size\n",
    "lr_accs = []\n",
    "for size in sizes:\n",
    "    # Split the dataset into training and test sets\n",
    "    X_train, X_test, y_train, y_test = train_test_split(df_train['Text'], df_train['Category'], train_size=size, random_state=42)\n",
    "    acc, y_pred, y_test = evaluate_model(lr_model, tfidf, X_train, X_test, y_train, y_test)\n",
    "    lr_accs.append(acc)\n",
    "    print('Logistic regression accuracy score for size {}: {}'.format(size, acc))\n"
   ]
  },
  {
   "attachments": {},
   "cell_type": "markdown",
   "metadata": {},
   "source": [
    "### Create Support Vector Machines"
   ]
  },
  {
   "cell_type": "code",
   "execution_count": 329,
   "metadata": {},
   "outputs": [
    {
     "name": "stdout",
     "output_type": "stream",
     "text": [
      "Support vector classifier accuracy score for size 0.1: 0.9143518518518519\n",
      "Support vector classifier accuracy score for size 0.2: 0.9288194444444444\n",
      "Support vector classifier accuracy score for size 0.3: 0.9603174603174603\n",
      "Support vector classifier accuracy score for size 0.4: 0.9652777777777778\n",
      "Support vector classifier accuracy score for size 0.5: 0.9680555555555556\n",
      "Support vector classifier accuracy score for size 0.6: 0.9704861111111112\n",
      "Support vector classifier accuracy score for size 0.7: 0.9699769053117783\n",
      "Support vector classifier accuracy score for size 0.8: 0.9722222222222222\n"
     ]
    },
    {
     "data": {
      "image/png": "[encoded data removed]",
      "text/plain": [
       "<Figure size 432x288 with 1 Axes>"
      ]
     },
     "metadata": {
      "needs_background": "light"
     },
     "output_type": "display_data"
    }
   ],
   "source": [
    "\n",
    "from sklearn.svm import SVC\n",
    "# Create a support vector classifier model\n",
    "svc_model = SVC()\n",
    "# Evaluate the support vector classifier model with different values of size\n",
    "svc_accs = []\n",
    "for size in sizes:\n",
    "    # Split the dataset into training and test sets\n",
    "    X_train, X_test, y_train, y_test = train_test_split(df_train['Text'], df_train['Category'], train_size=size, random_state=42)\n",
    "    acc, y_pred, y_test = evaluate_model(svc_model, tfidf, X_train, X_test, y_train, y_test)\n",
    "    svc_accs.append(acc)\n",
    "    print('Support vector classifier accuracy score for size {}: {}'.format(size, acc))\n",
    "\n",
    "# Plot the relationship between accuracy and test set size\n",
    "plt.plot(sizes, rf_accs, label='Random Forest')\n",
    "plt.plot(sizes, lr_accs, label='Logistic Regression')\n",
    "plt.plot(sizes, svc_accs, label='Support Vector Classifier')\n",
    "plt.title('Accuracy Plot vs Test Set Size')\n",
    "plt.xlabel('Test Set Size')\n",
    "plt.ylabel('Accuracy')\n",
    "plt.legend()\n",
    "plt.show()\n"
   ]
  },
  {
   "attachments": {},
   "cell_type": "markdown",
   "metadata": {},
   "source": [
    "Supervised learning methods give better accuracy with right Train/Test ratio. Logistic Regression gives maximum accuracy with 70% data where as \n",
    "Random Forest gives maxium accuracy at 60% of Train data.  Support Vector Machine accuracy becomes constant after 80%.\n"
   ]
  },
  {
   "attachments": {},
   "cell_type": "markdown",
   "metadata": {},
   "source": [
    "### References\n",
    "\n",
    "1. https://scikit-learn.org/stable/modules/generated/sklearn.feature_extraction.text.TfidfVectorizer.html\n",
    "2. Code References\n",
    "    1. https://www.kaggle.com/competitions/learn-ai-bbc/code\n",
    "    2. https://www.kaggle.com/code/shaochiehlin/bbc-text-classification\n",
    "    3. https://www.kaggle.com/code/vinothmdev/notebook314889d38f"
   ]
  }
 ],
 "metadata": {
  "kernelspec": {
   "display_name": "Python 3",
   "language": "python",
   "name": "python3"
  },
  "language_info": {
   "codemirror_mode": {
    "name": "ipython",
    "version": 3
   },
   "file_extension": ".py",
   "mimetype": "text/x-python",
   "name": "python",
   "nbconvert_exporter": "python",
   "pygments_lexer": "ipython3",
   "version": "3.9.10"
  },
  "orig_nbformat": 4,
  "vscode": {
   "interpreter": {
    "hash": "aee8b7b246df8f9039afb4144a1f6fd8d2ca17a180786b69acc140d282b71a49"
   }
  }
 },
 "nbformat": 4,
 "nbformat_minor": 2
}
